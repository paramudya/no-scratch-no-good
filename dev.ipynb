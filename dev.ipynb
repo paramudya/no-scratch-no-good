{
 "cells": [
  {
   "cell_type": "markdown",
   "metadata": {},
   "source": [
    "dummy df"
   ]
  },
  {
   "cell_type": "code",
   "execution_count": 1,
   "metadata": {},
   "outputs": [],
   "source": [
    "import pandas as pd\n",
    "import warnings\n",
    "warnings.filterwarnings('ignore')\n",
    "\n",
    "data = {\n",
    "    'name': ['John Smith', 'Jane Doe', 'Alice Johnson', 'Bob Brown', 'Joko Parwanto', 'Rendy Okta Vieri', 'Aya', 'Ara', 'Cisto', 'Margie', 'Kambuaya', 'Sultan HB X'],\n",
    "    'age': [28, 34, 22, 45, 51, 26, 22, 26, 6, 36, 25, 60],\n",
    "    'city': ['New York', 'Los Angeles', 'Chicago', 'Houston', 'Jabodetabek', 'Jabodetabek', 'Yogyakarta', 'Jabodetabek', 'Jabodetabek', 'Jabodetabek', 'Papua', 'Yogyakarta'],\n",
    "    'city_closer_to_jabo': [0, 0, 0, 0, 2, 2, 1, 2, 2, 2, 0.5, 1],\n",
    "    'likes_tuku': [0, 0, 0, 0, 4, 9, 6, 10, 0, 10, 0, 0]\n",
    "}\n",
    "\n",
    "df = pd.DataFrame(data)\n",
    "features = ['age', 'city_closer_to_jabo']\n",
    "target = 'likes_tuku'"
   ]
  },
  {
   "cell_type": "markdown",
   "metadata": {},
   "source": [
    "test .query()"
   ]
  },
  {
   "cell_type": "code",
   "execution_count": 2,
   "metadata": {},
   "outputs": [
    {
     "name": "stdout",
     "output_type": "stream",
     "text": [
      "                name  age         city  city_closer_to_jabo  likes_tuku\n",
      "0         John Smith   28     New York                  0.0           0\n",
      "1           Jane Doe   34  Los Angeles                  0.0           0\n",
      "2      Alice Johnson   22      Chicago                  0.0           0\n",
      "3          Bob Brown   45      Houston                  0.0           0\n",
      "4      Joko Parwanto   51  Jabodetabek                  2.0           4\n",
      "5   Rendy Okta Vieri   26  Jabodetabek                  2.0           9\n",
      "6                Aya   22   Yogyakarta                  1.0           6\n",
      "7                Ara   26  Jabodetabek                  2.0          10\n",
      "8              Cisto    6  Jabodetabek                  2.0           0\n",
      "9             Margie   36  Jabodetabek                  2.0          10\n",
      "10          Kambuaya   25        Papua                  0.5           0\n",
      "11       Sultan HB X   60   Yogyakarta                  1.0           0\n"
     ]
    }
   ],
   "source": [
    "# # df = df.query('age > 29')\n",
    "# # df = df.query('city != \"Los Angeles\" ')\n",
    "\n",
    "print(df)"
   ]
  },
  {
   "cell_type": "markdown",
   "metadata": {},
   "source": [
    "own tree"
   ]
  },
  {
   "cell_type": "code",
   "execution_count": 3,
   "metadata": {},
   "outputs": [
    {
     "name": "stdout",
     "output_type": "stream",
     "text": [
      "{'min_samples_leaf_pct': 0, 'min_samples_leaf': 0, 'max_leaves': 9999999, 'max_depth': 3}\n",
      "defined as regression problem\n",
      "\n",
      "\n",
      "\n",
      "continuing on the iteration to iter #1\n",
      "number of active nodes left: 1\n",
      "active leaf number 1 of 1\n",
      "temp df:\n",
      "                 name  age         city  city_closer_to_jabo  likes_tuku\n",
      "0         John Smith   28     New York                  0.0           0\n",
      "1           Jane Doe   34  Los Angeles                  0.0           0\n",
      "2      Alice Johnson   22      Chicago                  0.0           0\n",
      "3          Bob Brown   45      Houston                  0.0           0\n",
      "4      Joko Parwanto   51  Jabodetabek                  2.0           4\n",
      "5   Rendy Okta Vieri   26  Jabodetabek                  2.0           9\n",
      "6                Aya   22   Yogyakarta                  1.0           6\n",
      "7                Ara   26  Jabodetabek                  2.0          10\n",
      "8              Cisto    6  Jabodetabek                  2.0           0\n",
      "9             Margie   36  Jabodetabek                  2.0          10\n",
      "10          Kambuaya   25        Papua                  0.5           0\n",
      "11       Sultan HB X   60   Yogyakarta                  1.0           0\n",
      "set:  {34, 36, 6, 45, 60, 51, 22, 25, 26, 28}\n",
      "ordered feat: [34, 36, 6, 45, 60, 51, 22, 25, 26, 28]\n",
      "breaking age on breakpoint val (from [34, 36]): 35.0. mse: 17.15625\n",
      "\tpotential new breakpoint\n",
      "self.temp_min_samples_node 4 \n",
      " self.params['min_samples_leaf'] 0\n",
      "\t\teventual new breakpoint\n",
      "breaking age on breakpoint val (from [36, 6]): 21.0. mse: 16.22727272727273\n",
      "\tpotential new breakpoint\n",
      "self.temp_min_samples_node 1 \n",
      " self.params['min_samples_leaf'] 0\n",
      "\t\teventual new breakpoint\n",
      "breaking age on breakpoint val (from [6, 45]): 25.5. mse: 15.65625\n",
      "\tpotential new breakpoint\n",
      "self.temp_min_samples_node 4 \n",
      " self.params['min_samples_leaf'] 0\n",
      "\t\teventual new breakpoint\n",
      "breaking age on breakpoint val (from [45, 60]): 52.5. mse: 16.22727272727273\n",
      "breaking age on breakpoint val (from [60, 51]): 55.5. mse: 16.22727272727273\n",
      "breaking age on breakpoint val (from [51, 22]): 36.5. mse: 15.962962962962962\n",
      "breaking age on breakpoint val (from [22, 25]): 23.5. mse: 16.666666666666668\n",
      "breaking age on breakpoint val (from [25, 26]): 25.5. mse: 15.65625\n",
      "breaking age on breakpoint val (from [26, 28]): 27.0. mse: 16.34722222222222\n",
      "set:  {0.0, 1.0, 2.0, 0.5}\n",
      "ordered feat: [0.0, 1.0, 2.0, 0.5]\n",
      "breaking city_closer_to_jabo on breakpoint val (from [0.0, 1.0]): 0.5. mse: 11.90625\n",
      "\tpotential new breakpoint\n",
      "self.temp_min_samples_node 4 \n",
      " self.params['min_samples_leaf'] 0\n",
      "\t\teventual new breakpoint\n",
      "breaking city_closer_to_jabo on breakpoint val (from [1.0, 2.0]): 1.5. mse: 9.171428571428573\n",
      "\tpotential new breakpoint\n",
      "self.temp_min_samples_node 5 \n",
      " self.params['min_samples_leaf'] 0\n",
      "\t\teventual new breakpoint\n",
      "breaking city_closer_to_jabo on breakpoint val (from [2.0, 0.5]): 1.25. mse: 9.171428571428573\n",
      "Best breakpoint found on iter #1 active node (0): {'feature': 'city_closer_to_jabo', 'value': 1.5, 'score': 9.171428571428573}\n",
      "\n",
      "tree nodes after iter #1\n",
      "{'rules': [], 'len': 12, 'active': False, 'is_confirmed_leaf': 0}\n",
      "{'rules': ['city_closer_to_jabo >= 1.5'], 'len': 5, 'active': True, 'is_confirmed_leaf': 0}\n",
      "{'rules': ['city_closer_to_jabo < 1.5'], 'len': 7, 'active': True, 'is_confirmed_leaf': 0}\n",
      "\n",
      "\n",
      "\n",
      "continuing on the iteration to iter #2\n",
      "number of active nodes left: 2\n",
      "active leaf number 1 of 2\n",
      "temp df:\n",
      "                name  age         city  city_closer_to_jabo  likes_tuku\n",
      "4     Joko Parwanto   51  Jabodetabek                  2.0           4\n",
      "5  Rendy Okta Vieri   26  Jabodetabek                  2.0           9\n",
      "7               Ara   26  Jabodetabek                  2.0          10\n",
      "8             Cisto    6  Jabodetabek                  2.0           0\n",
      "9            Margie   36  Jabodetabek                  2.0          10\n",
      "set:  {26, 51, 36, 6}\n",
      "ordered feat: [26, 51, 36, 6]\n",
      "breaking age on breakpoint val (from [26, 51]): 38.5. mse: 14.15\n",
      "\tpotential new breakpoint\n",
      "self.temp_min_samples_node 1 \n",
      " self.params['min_samples_leaf'] 0\n",
      "\t\teventual new breakpoint\n",
      "breaking age on breakpoint val (from [51, 36]): 43.5. mse: 14.15\n",
      "breaking age on breakpoint val (from [36, 6]): 21.0. mse: 4.95\n",
      "\tpotential new breakpoint\n",
      "self.temp_min_samples_node 1 \n",
      " self.params['min_samples_leaf'] 0\n",
      "\t\teventual new breakpoint\n",
      "set:  {2.0}\n",
      "ordered feat: [2.0]\n",
      "Best breakpoint found on iter #2 active node (0): {'feature': 'age', 'value': 21.0, 'score': 4.95}\n",
      "\n",
      "active leaf number 2 of 2\n",
      "temp df:\n",
      "              name  age         city  city_closer_to_jabo  likes_tuku\n",
      "0      John Smith   28     New York                  0.0           0\n",
      "1        Jane Doe   34  Los Angeles                  0.0           0\n",
      "2   Alice Johnson   22      Chicago                  0.0           0\n",
      "3       Bob Brown   45      Houston                  0.0           0\n",
      "6             Aya   22   Yogyakarta                  1.0           6\n",
      "10       Kambuaya   25        Papua                  0.5           0\n",
      "11    Sultan HB X   60   Yogyakarta                  1.0           0\n",
      "set:  {34, 45, 60, 22, 25, 28}\n",
      "ordered feat: [34, 45, 60, 22, 25, 28]\n",
      "breaking age on breakpoint val (from [34, 45]): 39.5. mse: 4.114285714285714\n",
      "\tpotential new breakpoint\n",
      "self.temp_min_samples_node 2 \n",
      " self.params['min_samples_leaf'] 0\n",
      "\t\teventual new breakpoint\n",
      "breaking age on breakpoint val (from [45, 60]): 52.5. mse: 4.285714285714286\n",
      "breaking age on breakpoint val (from [60, 22]): 41.0. mse: 4.114285714285714\n",
      "breaking age on breakpoint val (from [22, 25]): 23.5. mse: 2.5714285714285716\n",
      "\tpotential new breakpoint\n",
      "self.temp_min_samples_node 2 \n",
      " self.params['min_samples_leaf'] 0\n",
      "\t\teventual new breakpoint\n",
      "breaking age on breakpoint val (from [25, 28]): 26.5. mse: 3.4285714285714284\n",
      "set:  {0.0, 1.0, 0.5}\n",
      "ordered feat: [0.0, 1.0, 0.5]\n",
      "breaking city_closer_to_jabo on breakpoint val (from [0.0, 1.0]): 0.5. mse: 3.4285714285714284\n",
      "breaking city_closer_to_jabo on breakpoint val (from [1.0, 0.5]): 0.75. mse: 2.5714285714285716\n",
      "Best breakpoint found on iter #2 active node (1): {'feature': 'age', 'value': 23.5, 'score': 2.5714285714285716}\n",
      "\n",
      "tree nodes after iter #2\n",
      "{'rules': [], 'len': 12, 'active': False, 'is_confirmed_leaf': 0}\n",
      "{'rules': ['city_closer_to_jabo >= 1.5'], 'len': 5, 'active': False, 'is_confirmed_leaf': 0}\n",
      "{'rules': ['city_closer_to_jabo < 1.5'], 'len': 7, 'active': False, 'is_confirmed_leaf': 0}\n",
      "{'rules': ['city_closer_to_jabo >= 1.5', 'age >= 21.0'], 'len': 4, 'active': True, 'is_confirmed_leaf': 0}\n",
      "{'rules': ['city_closer_to_jabo >= 1.5', 'age < 21.0'], 'len': 1, 'active': False, 'is_confirmed_leaf': 1}\n",
      "{'rules': ['city_closer_to_jabo < 1.5', 'age >= 23.5'], 'len': 5, 'active': False, 'is_confirmed_leaf': 1}\n",
      "{'rules': ['city_closer_to_jabo < 1.5', 'age < 23.5'], 'len': 2, 'active': True, 'is_confirmed_leaf': 0}\n",
      "\n",
      "\n",
      "\n",
      "continuing on the iteration to iter #3\n",
      "number of active nodes left: 2\n",
      "active leaf number 1 of 2\n",
      "temp df:\n",
      "                name  age         city  city_closer_to_jabo  likes_tuku\n",
      "4     Joko Parwanto   51  Jabodetabek                  2.0           4\n",
      "5  Rendy Okta Vieri   26  Jabodetabek                  2.0           9\n",
      "7               Ara   26  Jabodetabek                  2.0          10\n",
      "9            Margie   36  Jabodetabek                  2.0          10\n",
      "set:  {26, 51, 36}\n",
      "ordered feat: [26, 51, 36]\n",
      "breaking age on breakpoint val (from [26, 51]): 38.5. mse: 0.16666666666666666\n",
      "\tpotential new breakpoint\n",
      "self.temp_min_samples_node 1 \n",
      " self.params['min_samples_leaf'] 0\n",
      "\t\teventual new breakpoint\n",
      "breaking age on breakpoint val (from [51, 36]): 43.5. mse: 0.16666666666666666\n",
      "set:  {2.0}\n",
      "ordered feat: [2.0]\n",
      "Best breakpoint found on iter #3 active node (0): {'feature': 'age', 'value': 38.5, 'score': 0.16666666666666666}\n",
      "\n",
      "active leaf number 2 of 2\n",
      "temp df:\n",
      "             name  age        city  city_closer_to_jabo  likes_tuku\n",
      "2  Alice Johnson   22     Chicago                  0.0           0\n",
      "6            Aya   22  Yogyakarta                  1.0           6\n",
      "set:  {22}\n",
      "ordered feat: [22]\n",
      "set:  {0.0, 1.0}\n",
      "ordered feat: [0.0, 1.0]\n",
      "breaking city_closer_to_jabo on breakpoint val (from [0.0, 1.0]): 0.5. mse: 0.0\n",
      "\tpotential new breakpoint\n",
      "self.temp_min_samples_node 1 \n",
      " self.params['min_samples_leaf'] 0\n",
      "\t\teventual new breakpoint\n",
      "Best breakpoint found on iter #3 active node (1): {'feature': 'city_closer_to_jabo', 'value': 0.5, 'score': 0.0}\n",
      "\n",
      "tree nodes after iter #3\n",
      "{'rules': [], 'len': 12, 'active': False, 'is_confirmed_leaf': 0}\n",
      "{'rules': ['city_closer_to_jabo >= 1.5'], 'len': 5, 'active': False, 'is_confirmed_leaf': 0}\n",
      "{'rules': ['city_closer_to_jabo < 1.5'], 'len': 7, 'active': False, 'is_confirmed_leaf': 0}\n",
      "{'rules': ['city_closer_to_jabo >= 1.5', 'age >= 21.0'], 'len': 4, 'active': False, 'is_confirmed_leaf': 0}\n",
      "{'rules': ['city_closer_to_jabo >= 1.5', 'age < 21.0'], 'len': 1, 'active': False, 'is_confirmed_leaf': 1}\n",
      "{'rules': ['city_closer_to_jabo < 1.5', 'age >= 23.5'], 'len': 5, 'active': False, 'is_confirmed_leaf': 1}\n",
      "{'rules': ['city_closer_to_jabo < 1.5', 'age < 23.5'], 'len': 2, 'active': False, 'is_confirmed_leaf': 0}\n",
      "{'rules': ['city_closer_to_jabo >= 1.5', 'age >= 21.0', 'age >= 38.5'], 'len': 1, 'active': False, 'is_confirmed_leaf': 1}\n",
      "{'rules': ['city_closer_to_jabo >= 1.5', 'age >= 21.0', 'age < 38.5'], 'len': 3, 'active': True, 'is_confirmed_leaf': 0}\n",
      "{'rules': ['city_closer_to_jabo < 1.5', 'age < 23.5', 'city_closer_to_jabo >= 0.5'], 'len': 1, 'active': False, 'is_confirmed_leaf': 1}\n",
      "{'rules': ['city_closer_to_jabo < 1.5', 'age < 23.5', 'city_closer_to_jabo < 0.5'], 'len': 1, 'active': False, 'is_confirmed_leaf': 1}\n",
      "max depth of 3 reached (iter #4)\n"
     ]
    }
   ],
   "source": [
    "from conventional.tree import EnjangDecisionTree\n",
    "\n",
    "tree = EnjangDecisionTree(is_classification=False, min_samples_leaf=None, max_depth=3)\n",
    "tree.train(df, features, target)\n"
   ]
  },
  {
   "cell_type": "code",
   "execution_count": 9,
   "metadata": {},
   "outputs": [
    {
     "data": {
      "text/plain": [
       "[1, 1, 1, 2, 3, 3, 4, 5]"
      ]
     },
     "execution_count": 9,
     "metadata": {},
     "output_type": "execute_result"
    }
   ],
   "source": [
    "a = [3,3,2,5,4,1,1,1]\n",
    "\n",
    "a.sort()\n",
    "a"
   ]
  },
  {
   "cell_type": "code",
   "execution_count": 4,
   "metadata": {},
   "outputs": [
    {
     "data": {
      "text/plain": [
       "[{'rules': [], 'len': 12, 'active': False, 'is_confirmed_leaf': 0},\n",
       " {'rules': ['city_closer_to_jabo >= 1.5'],\n",
       "  'len': 5,\n",
       "  'active': False,\n",
       "  'is_confirmed_leaf': 0},\n",
       " {'rules': ['city_closer_to_jabo < 1.5'],\n",
       "  'len': 7,\n",
       "  'active': False,\n",
       "  'is_confirmed_leaf': 0},\n",
       " {'rules': ['city_closer_to_jabo >= 1.5', 'age >= 21.0'],\n",
       "  'len': 4,\n",
       "  'active': False,\n",
       "  'is_confirmed_leaf': 0},\n",
       " {'rules': ['city_closer_to_jabo >= 1.5', 'age < 21.0'],\n",
       "  'len': 1,\n",
       "  'active': False,\n",
       "  'is_confirmed_leaf': 1},\n",
       " {'rules': ['city_closer_to_jabo < 1.5', 'age >= 23.5'],\n",
       "  'len': 5,\n",
       "  'active': False,\n",
       "  'is_confirmed_leaf': 1},\n",
       " {'rules': ['city_closer_to_jabo < 1.5', 'age < 23.5'],\n",
       "  'len': 2,\n",
       "  'active': False,\n",
       "  'is_confirmed_leaf': 0},\n",
       " {'rules': ['city_closer_to_jabo >= 1.5', 'age >= 21.0', 'age >= 38.5'],\n",
       "  'len': 1,\n",
       "  'active': False,\n",
       "  'is_confirmed_leaf': 1},\n",
       " {'rules': ['city_closer_to_jabo >= 1.5', 'age >= 21.0', 'age < 38.5'],\n",
       "  'len': 3,\n",
       "  'active': True,\n",
       "  'is_confirmed_leaf': 0},\n",
       " {'rules': ['city_closer_to_jabo < 1.5',\n",
       "   'age < 23.5',\n",
       "   'city_closer_to_jabo >= 0.5'],\n",
       "  'len': 1,\n",
       "  'active': False,\n",
       "  'is_confirmed_leaf': 1},\n",
       " {'rules': ['city_closer_to_jabo < 1.5',\n",
       "   'age < 23.5',\n",
       "   'city_closer_to_jabo < 0.5'],\n",
       "  'len': 1,\n",
       "  'active': False,\n",
       "  'is_confirmed_leaf': 1}]"
      ]
     },
     "execution_count": 4,
     "metadata": {},
     "output_type": "execute_result"
    }
   ],
   "source": [
    "tree.temp_leaves"
   ]
  },
  {
   "cell_type": "markdown",
   "metadata": {},
   "source": [
    "sklearn's tree"
   ]
  },
  {
   "cell_type": "code",
   "execution_count": 7,
   "metadata": {},
   "outputs": [
    {
     "name": "stdout",
     "output_type": "stream",
     "text": [
      "|--- city_closer_to_jabo <= 1.50\n",
      "|   |--- city_closer_to_jabo <= 0.75\n",
      "|   |   |--- value: [0.00]\n",
      "|   |--- city_closer_to_jabo >  0.75\n",
      "|   |   |--- age <= 41.00\n",
      "|   |   |   |--- value: [6.00]\n",
      "|   |   |--- age >  41.00\n",
      "|   |   |   |--- value: [0.00]\n",
      "|--- city_closer_to_jabo >  1.50\n",
      "|   |--- age <= 16.00\n",
      "|   |   |--- value: [0.00]\n",
      "|   |--- age >  16.00\n",
      "|   |   |--- age <= 43.50\n",
      "|   |   |   |--- age <= 31.00\n",
      "|   |   |   |   |--- value: [9.50]\n",
      "|   |   |   |--- age >  31.00\n",
      "|   |   |   |   |--- value: [10.00]\n",
      "|   |   |--- age >  43.50\n",
      "|   |   |   |--- value: [4.00]\n",
      "\n"
     ]
    }
   ],
   "source": [
    "from sklearn.tree import DecisionTreeRegressor, export_text\n",
    "\n",
    "skl = DecisionTreeRegressor()\n",
    "skl.fit(df[['age','city_closer_to_jabo']], df['likes_tuku'])\n",
    "\n",
    "rules_skl = export_text(skl, feature_names=['age','city_closer_to_jabo'])\n",
    "print(rules_skl)"
   ]
  },
  {
   "cell_type": "code",
   "execution_count": 19,
   "metadata": {},
   "outputs": [
    {
     "data": {
      "text/html": [
       "<div>\n",
       "<style scoped>\n",
       "    .dataframe tbody tr th:only-of-type {\n",
       "        vertical-align: middle;\n",
       "    }\n",
       "\n",
       "    .dataframe tbody tr th {\n",
       "        vertical-align: top;\n",
       "    }\n",
       "\n",
       "    .dataframe thead th {\n",
       "        text-align: right;\n",
       "    }\n",
       "</style>\n",
       "<table border=\"1\" class=\"dataframe\">\n",
       "  <thead>\n",
       "    <tr style=\"text-align: right;\">\n",
       "      <th></th>\n",
       "      <th>name</th>\n",
       "      <th>age</th>\n",
       "      <th>city</th>\n",
       "    </tr>\n",
       "  </thead>\n",
       "  <tbody>\n",
       "    <tr>\n",
       "      <th>3</th>\n",
       "      <td>Bob Brown</td>\n",
       "      <td>45</td>\n",
       "      <td>Houston</td>\n",
       "    </tr>\n",
       "  </tbody>\n",
       "</table>\n",
       "</div>"
      ],
      "text/plain": [
       "        name  age     city\n",
       "3  Bob Brown   45  Houston"
      ]
     },
     "execution_count": 19,
     "metadata": {},
     "output_type": "execute_result"
    }
   ],
   "source": [
    "df"
   ]
  },
  {
   "cell_type": "code",
   "execution_count": 6,
   "metadata": {},
   "outputs": [
    {
     "name": "stdout",
     "output_type": "stream",
     "text": [
      "1\n",
      "2\n"
     ]
    }
   ],
   "source": [
    "for i in range(1,3):\n",
    "    print(i)"
   ]
  },
  {
   "cell_type": "code",
   "execution_count": 14,
   "metadata": {},
   "outputs": [
    {
     "data": {
      "text/plain": [
       "1.5"
      ]
     },
     "execution_count": 14,
     "metadata": {},
     "output_type": "execute_result"
    }
   ],
   "source": [
    "s = [1,2,3,4]\n",
    "\n",
    "sum(s[0:2])/2"
   ]
  },
  {
   "cell_type": "code",
   "execution_count": 7,
   "metadata": {},
   "outputs": [
    {
     "ename": "NameError",
     "evalue": "name 'self' is not defined",
     "output_type": "error",
     "traceback": [
      "\u001b[31m---------------------------------------------------------------------------\u001b[39m",
      "\u001b[31mNameError\u001b[39m                                 Traceback (most recent call last)",
      "\u001b[36mCell\u001b[39m\u001b[36m \u001b[39m\u001b[32mIn[7]\u001b[39m\u001b[32m, line 1\u001b[39m\n\u001b[32m----> \u001b[39m\u001b[32m1\u001b[39m \u001b[38;5;28;43mself\u001b[39;49m.df.feat\n",
      "\u001b[31mNameError\u001b[39m: name 'self' is not defined"
     ]
    }
   ],
   "source": [
    "                        self.df.feat\n"
   ]
  },
  {
   "cell_type": "code",
   "execution_count": null,
   "metadata": {},
   "outputs": [],
   "source": [
    "# validate to\n",
    "from sklearn import tree\n",
    "\n",
    "# my own \n",
    "from conventional.tree import EnjangDecisionTree\n",
    "\n",
    "X = [[0, 0], [1, 1]]\n",
    "Y = [0, 1]\n",
    "clf = tree.DecisionTreeClassifier()\n",
    "clf = clf.fit(X, Y)"
   ]
  }
 ],
 "metadata": {
  "kernelspec": {
   "display_name": "Python 3",
   "language": "python",
   "name": "python3"
  },
  "language_info": {
   "codemirror_mode": {
    "name": "ipython",
    "version": 3
   },
   "file_extension": ".py",
   "mimetype": "text/x-python",
   "name": "python",
   "nbconvert_exporter": "python",
   "pygments_lexer": "ipython3",
   "version": "3.12.9"
  }
 },
 "nbformat": 4,
 "nbformat_minor": 2
}
